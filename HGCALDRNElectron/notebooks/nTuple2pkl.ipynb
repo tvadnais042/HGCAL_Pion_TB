{
 "cells": [
  {
   "cell_type": "code",
   "execution_count": 2,
   "id": "understood-range",
   "metadata": {},
   "outputs": [],
   "source": [
    "import os,sys\n",
    "import argparse\n",
    "import numpy as np\n",
    "import uproot\n",
    "import awkward as ak\n",
    "import pandas as pd\n",
    "from time import time\n",
    "\n",
    "import torch\n",
    "from torch_geometric.data import Data\n",
    "import pickle\n",
    "import json\n",
    "\n",
    "import warnings\n",
    "warnings.filterwarnings(\"ignore\")\n",
    "\n",
    "sys.path.append('../')\n",
    "from utils.pltutils import plt\n",
    "\n",
    "# import input range\n",
    "with open('../utils/hgcal_input_range.json','r') as f:\n",
    "        input_range = json.load(f)"
   ]
  },
  {
   "cell_type": "code",
   "execution_count": 4,
   "id": "operational-geometry",
   "metadata": {},
   "outputs": [],
   "source": [
    "def torchify(feat, graph_x = None):\n",
    "    data = [Data(x = torch.from_numpy(ak.to_numpy(ele).astype(np.float32))) for ele in feat]\n",
    "    if graph_x is not None:\n",
    "        for d, gx in zip(data, graph_x):\n",
    "            d.graph_x = gx\n",
    "    return data\n",
    "\n",
    "def rescale(feature, minval, maxval):\n",
    "    top = feature-minval\n",
    "    bot = maxval-minval\n",
    "    return top/bot\n",
    "\n",
    "def cartfeat_HGCAL(x, y, z, En):\n",
    "    E = rescale(En, input_range['HGCAL_Min'], input_range['HGCAL_Max'])\n",
    "    x = rescale(x, input_range['HGCAL_X_Min'], input_range['HGCAL_X_Max'])\n",
    "    y = rescale(y, input_range['HGCAL_Y_Min'], input_range['HGCAL_Y_Max'])\n",
    "    z = rescale(z, input_range['HGCAL_Z_Min'], input_range['HGCAL_Z_Max'])\n",
    "    return ak.concatenate((x[:,:,None], y[:,:,None], z[:,:,None], E[:,:,None]), -1)"
   ]
  },
  {
   "cell_type": "code",
   "execution_count": 3,
   "id": "local-station",
   "metadata": {},
   "outputs": [],
   "source": [
    "path_to_input = '/home/rusack/shared/nTuples/hgcal_electrons/data/ntuple_455.root'\n",
    "input_type = 'file'\n",
    "output_folder = '/home/rusack/shared/pickles/hgcal_electron/data_h3_selection/20'\n",
    "data_type = 'data'"
   ]
  },
  {
   "cell_type": "code",
   "execution_count": 7,
   "id": "informal-produce",
   "metadata": {},
   "outputs": [],
   "source": [
    "filelist = []\n",
    "\n",
    "if input_type=='file':\n",
    "    filelist.append(path_to_input)\n",
    "elif input_type=='folder':\n",
    "    filelist = [ '{}/{}'.format(path_to_input,f.replace('\\\\','')) for f in os.listdir(path_to_input) if '.root' in f ]\n",
    "else:\n",
    "    print('Invalid file type!')\n",
    "    exit(2)\n",
    "\n",
    "# check if files exist\n",
    "for f in filelist:\n",
    "    if not os.path.exists(f):\n",
    "        print(f)\n",
    "        print('File not found!')\n",
    "        exit(2)\n",
    "\n",
    "if data_type not in ['data','mc']:\n",
    "    print('Check your data type!')\n",
    "    exit(2)\n",
    "\n",
    "event_file_map = {}\n",
    "for e in [20, 30, 50, 80, 100, 120, 150, 200, 250, 300]:\n",
    "    DTYPE = 'DATA'\n",
    "    if data_type=='mc': DTYPE='MC'\n",
    "    with open('../HGCALTB_events/{}_EvtList_{}GeV.txt'.format(DTYPE,e),'r') as f:\n",
    "        lines = f.readlines()\n",
    "\n",
    "    filename = ''\n",
    "    for l in lines:\n",
    "        l = l.strip('\\n')\n",
    "        if 'Runs' in l: continue\n",
    "        if 'eos' in l:\n",
    "            filename = l.split('/')[-1]\n",
    "            event_file_map[filename] = []\n",
    "        else:\n",
    "            x = l.split('\\t\\t ')\n",
    "            event_file_map[filename].append(np.array([int(x[0]), int(x[1])]))\n",
    "    for f in event_file_map.keys(): event_file_map[f] = np.array(event_file_map[f])\n",
    "\n",
    "hit_list = ['event', 'run', 'rechit_x', 'rechit_y', 'rechit_z', 'rechit_layer',\n",
    "        'rechit_energy', 'rechit_chip', 'rechit_channel', 'trueBeamEnergy']\n",
    "ip_list = ['event', 'ntracks', 'dwcReferenceType', 'b_x',\n",
    "        'b_y', 'm_x', 'm_y', 'trackChi2_X', 'trackChi2_Y']"
   ]
  },
  {
   "cell_type": "code",
   "execution_count": 58,
   "id": "athletic-tennis",
   "metadata": {},
   "outputs": [
    {
     "name": "stdout",
     "output_type": "stream",
     "text": [
      "Reading file /home/rusack/shared/nTuples/hgcal_electrons/data/ntuple_455.root\n",
      "rechit_x\n",
      "rechit_y\n",
      "rechit_z\n",
      "rechit_energy\n",
      "all_target\n"
     ]
    }
   ],
   "source": [
    "pickles = {}\n",
    "data_rechit_tree = None\n",
    "data_ip_tree = None\n",
    "data_hit_map = None\n",
    "data_ip_map = None\n",
    "for ifile, f in enumerate(filelist):\n",
    "    print(\"Reading file {}\".format(f))\n",
    "    er = event_file_map[f.split('/')[-1]]\n",
    "    with uproot.open(f) as data_tree:\n",
    "\n",
    "        data_rechit_tree = data_tree['rechitntupler/hits']\n",
    "        data_ip_tree = data_tree['trackimpactntupler/impactPoints']\n",
    "        data_hit_map = data_rechit_tree.arrays(hit_list)\n",
    "        data_ip_map = data_ip_tree.arrays(ip_list)\n",
    "\n",
    "        event_check = [ x in er[:,0] for x in data_hit_map.event ]\n",
    "        run_check = [ x in er[:,0] for x in data_hit_map.event ]\n",
    "        preselection = ak.Array(event_check)*ak.Array(run_check)\n",
    "        data_hit_map['all_target'] = data_hit_map.trueBeamEnergy\n",
    "\n",
    "        channel_mask = ~((data_hit_map.rechit_chip==0)&(data_hit_map.rechit_layer==1))\n",
    "        channel_mask = (~((data_hit_map.rechit_layer==3)&(data_hit_map.rechit_channel==22)))*channel_mask\n",
    "\n",
    "        noise_th = data_hit_map.rechit_energy>=0.5\n",
    "        hit_selection = preselection*noise_th*channel_mask\n",
    "\n",
    "        quantities = ['rechit_x', 'rechit_y', 'rechit_z', 'rechit_energy', 'all_target']\n",
    "\n",
    "        for q_ in quantities:\n",
    "            print(q_)\n",
    "            if ifile==0:\n",
    "                if q_=='all_target':\n",
    "                    pickles[q_] = data_hit_map[q_][preselection]   \n",
    "                else:\n",
    "                    pickles[q_] = data_hit_map[q_][hit_selection]\n",
    "            else:\n",
    "                if q_=='all_target':\n",
    "                    pickles[q_] = np.concatenate((data_hit_map[q_][preselection], pickles[q_]), axis=0)\n",
    "                else:\n",
    "                    pickles[q_] = np.concatenate((data_hit_map[q_][hit_selection], pickles[q_]), axis=0)"
   ]
  },
  {
   "cell_type": "code",
   "execution_count": 59,
   "id": "south-classic",
   "metadata": {},
   "outputs": [],
   "source": [
    "L = data_hit_map['rechit_layer'][preselection*noise_th*(~channel_mask)]\n",
    "C = data_hit_map['rechit_chip'][preselection*noise_th*(~channel_mask)]\n",
    "E = data_hit_map['rechit_energy'][preselection*noise_th*(~channel_mask)]"
   ]
  },
  {
   "cell_type": "code",
   "execution_count": 63,
   "id": "alpha-aviation",
   "metadata": {},
   "outputs": [
    {
     "data": {
      "text/plain": [
       "1.495049504950495"
      ]
     },
     "execution_count": 63,
     "metadata": {},
     "output_type": "execute_result"
    }
   ],
   "source": [
    "np.mean(ak.flatten(C[L==3]))"
   ]
  },
  {
   "cell_type": "code",
   "execution_count": 64,
   "id": "smart-swift",
   "metadata": {},
   "outputs": [
    {
     "data": {
      "text/plain": [
       "<Array [1.2, 6.48, 0.855, ... 1.31, 1.17] type='296 * float32'>"
      ]
     },
     "execution_count": 64,
     "metadata": {},
     "output_type": "execute_result"
    }
   ],
   "source": [
    "pickles['rechit_energy'][1]"
   ]
  },
  {
   "cell_type": "code",
   "execution_count": 31,
   "id": "local-samba",
   "metadata": {},
   "outputs": [
    {
     "name": "stdout",
     "output_type": "stream",
     "text": [
      "Dumping pickle files...\n",
      "File rechit_x.pickle dumped in 0.0026404857635498047 s\n",
      "File rechit_y.pickle dumped in 0.0024149417877197266 s\n",
      "File rechit_z.pickle dumped in 0.002569437026977539 s\n",
      "File rechit_energy.pickle dumped in 0.002742767333984375 s\n",
      "File all_target.pickle dumped in 0.0002944469451904297 s\n",
      "File cartfeat.pickle dumped in 0.4558699131011963 s\n"
     ]
    }
   ],
   "source": [
    "arr = cartfeat_HGCAL(pickles['rechit_x'],\n",
    "               pickles['rechit_y'],\n",
    "               pickles['rechit_z'],\n",
    "               pickles['rechit_energy'])\n",
    "\n",
    "pickles['cartfeat'] = torchify(arr)\n",
    "\n",
    "print('Dumping pickle files...')\n",
    "path_to_output = output_folder\n",
    "\n",
    "for q_ in pickles:\n",
    "    output_file = '{}/{}.pickle'.format(path_to_output, q_)\n",
    "    with open(output_file, 'wb') as f_:\n",
    "        t0=time()\n",
    "        if q_=='cartfeat':\n",
    "            torch.save(pickles[q_], f_, pickle_protocol=4)\n",
    "        else:\n",
    "            pickle.dump(pickles[q_], f_, protocol=4)\n",
    "        print('File {}.pickle dumped in {} s'.format(q_, time()-t0))"
   ]
  }
 ],
 "metadata": {
  "kernelspec": {
   "display_name": "torch1.9",
   "language": "python",
   "name": "torch1.9"
  },
  "language_info": {
   "codemirror_mode": {
    "name": "ipython",
    "version": 3
   },
   "file_extension": ".py",
   "mimetype": "text/x-python",
   "name": "python",
   "nbconvert_exporter": "python",
   "pygments_lexer": "ipython3",
   "version": "3.8.13"
  }
 },
 "nbformat": 4,
 "nbformat_minor": 5
}
