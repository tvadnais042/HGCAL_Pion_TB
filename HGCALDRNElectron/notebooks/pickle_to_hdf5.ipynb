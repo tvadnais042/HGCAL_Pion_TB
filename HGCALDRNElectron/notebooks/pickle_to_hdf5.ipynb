{
 "cells": [
  {
   "cell_type": "code",
   "execution_count": 1,
   "id": "young-pipeline",
   "metadata": {},
   "outputs": [],
   "source": [
    "import numpy as np\n",
    "import h5py\n",
    "import awkward as ak\n",
    "import pickle"
   ]
  },
  {
   "cell_type": "code",
   "execution_count": 3,
   "id": "renewable-insight",
   "metadata": {},
   "outputs": [],
   "source": [
    "pickles = ['rechit_x', 'rechit_y', 'rechit_z', 'rechit_energy', 'all_target']"
   ]
  },
  {
   "cell_type": "markdown",
   "id": "signal-masters",
   "metadata": {},
   "source": [
    "The following lines show the conversion from pickles to HDF5 format."
   ]
  },
  {
   "cell_type": "code",
   "execution_count": null,
   "id": "palestinian-mechanics",
   "metadata": {},
   "outputs": [],
   "source": [
    "path_to_pickles='/home/rusack/shared/pickles/hgcal_electron/flat_0001/'\n",
    "path_to_hdf5='/home/rusack/shared/hdf5/hgcal_electron/flat_0001/'"
   ]
  },
  {
   "cell_type": "code",
   "execution_count": null,
   "id": "seeing-battery",
   "metadata": {},
   "outputs": [],
   "source": [
    "arrays = {}\n",
    "for ip, p in enumerate(pickles):\n",
    "    filename = '{}/{}.pickle'.format(path_to_pickles, p)\n",
    "    with open(filename, 'rb') as file_:\n",
    "        arrays[p] = pickle.load(file_)\n",
    "\n",
    "nhits = ak.count(ak.ones_like(arrays['rechit_x']), axis=1)\n",
    "arrays['nhits'] = nhits\n",
    "\n",
    "hf = h5py.File(path_to_hdf5+'hgcal_electron_data.h5', 'w')\n",
    "for p in pickles+['nhits']:\n",
    "    if p=='all_target' or p=='nhits': hf.create_dataset('target', data=arrays[p], dtype=\"float\")\n",
    "    else: hf.create_dataset(p, data=ak.flatten(arrays[p]), dtype=\"float\")\n",
    "hf.close()"
   ]
  },
  {
   "cell_type": "markdown",
   "id": "inner-style",
   "metadata": {},
   "source": [
    "The following lines show the conversion from HDF5 to pickles."
   ]
  },
  {
   "cell_type": "code",
   "execution_count": 10,
   "id": "general-reconstruction",
   "metadata": {},
   "outputs": [],
   "source": [
    "path_to_pickles='/home/rusack/shared/pickles/hgcal_electron/hdf_test/'\n",
    "path_to_hdf5='/home/rusack/shared/hdf5/hgcal_electron/flat_0001/'"
   ]
  },
  {
   "cell_type": "code",
   "execution_count": 4,
   "id": "interstate-setup",
   "metadata": {},
   "outputs": [],
   "source": [
    "hf = h5py.File(path_to_hdf5+'hgcal_electron_data.h5', 'r')"
   ]
  },
  {
   "cell_type": "code",
   "execution_count": 12,
   "id": "voluntary-portuguese",
   "metadata": {},
   "outputs": [],
   "source": [
    "arrays = {}\n",
    "arrays['all_target'] = np.asarray(hf['target'])\n",
    "arrays['nhits'] = np.asarray(hf['nhits'])\n",
    "for p in pickles:\n",
    "    if p=='all_target': continue\n",
    "    A = np.asarray(hf[p])\n",
    "    arrays[p] = ak.unflatten(A, arrays['nhits'])\n",
    "    with open(path_to_pickles+p+'.pickle', 'wb') as f0:\n",
    "        pickle.dump(arrays[p], f0, protocol=4)"
   ]
  },
  {
   "cell_type": "code",
   "execution_count": 11,
   "id": "martial-potato",
   "metadata": {},
   "outputs": [],
   "source": [
    "with open(path_to_pickles+'all_target.pickle', 'wb') as f0:\n",
    "    pickle.dump(arrays['all_target'], f0)"
   ]
  },
  {
   "cell_type": "code",
   "execution_count": null,
   "id": "entitled-franchise",
   "metadata": {},
   "outputs": [],
   "source": [
    "hf.close()"
   ]
  }
 ],
 "metadata": {
  "kernelspec": {
   "display_name": "torch1.9",
   "language": "python",
   "name": "torch1.9"
  },
  "language_info": {
   "codemirror_mode": {
    "name": "ipython",
    "version": 3
   },
   "file_extension": ".py",
   "mimetype": "text/x-python",
   "name": "python",
   "nbconvert_exporter": "python",
   "pygments_lexer": "ipython3",
   "version": "3.8.13"
  }
 },
 "nbformat": 4,
 "nbformat_minor": 5
}
