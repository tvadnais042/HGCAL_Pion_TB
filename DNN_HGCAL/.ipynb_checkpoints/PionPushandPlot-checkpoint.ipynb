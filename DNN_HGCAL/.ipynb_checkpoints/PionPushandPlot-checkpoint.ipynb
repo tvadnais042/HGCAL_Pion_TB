{
 "cells": [
  {
   "cell_type": "code",
   "execution_count": 15,
   "id": "piano-petersburg",
   "metadata": {},
   "outputs": [],
   "source": [
    "import torch\n",
    "import torch.nn as nn\n",
    "from torch.utils.data import DataLoader\n",
    "import numpy as np\n",
    "import plotly.express as px\n",
    "import plotly.graph_objects as go\n",
    "import uproot\n",
    "import awkward as ak\n",
    "import pickle\n",
    "import os\n",
    "import datetime\n",
    "import matplotlib.pyplot as plt\n",
    "from scipy.optimize import curve_fit\n",
    "import pandas as pd\n",
    "\n",
    "from PionModel import *"
   ]
  },
  {
   "cell_type": "code",
   "execution_count": 16,
   "id": "caroline-engine",
   "metadata": {},
   "outputs": [],
   "source": [
    "# Create an instance of the model.\n",
    "# This can be used to train a new weights set, or can evaluate data sets using existing weight sets. \n",
    "# Imported from PionModel\n",
    "net = NN()\n",
    "# Set the Criterion and optimizer for training later\n",
    "criterion = MARE\n",
    "optimizer = torch.optim.SGD(net.parameters(), lr = 0.001)"
   ]
  },
  {
   "cell_type": "code",
   "execution_count": 17,
   "id": "disabled-calendar",
   "metadata": {},
   "outputs": [],
   "source": [
    "# Load in data for the summed energy layers to be used as input for the NN\n",
    "# and targets as the training comparison values.\n",
    "#import flat distribution training set for pion\n",
    "with open('/home/rusack/shared/pickles/HGCAL_TestBeam/pkl_files/DiscreteSim_pklFiles_Jul22/v1/FTFP_pklFiles/trueE_target.pickle', 'rb') as f:\n",
    "    targets = pickle.load(f)\n",
    "    \n",
    "#energy of each layer summed up.\n",
    "with open(f'/home/rusack/shared/pickles/HGCAL_TestBeam/pkl_files/DiscreteSim_pklFiles_Jul22/v1/FTFP_pklFiles/layer_energy_sum.pickle', 'rb') as a4:\n",
    "    layerSum = pickle.load(a4)\n",
    "\n",
    "# with open(f'/home/rusack/shared/pickles/HGCAL_TestBeam/pkl_files/DiscreteSim_pklFiles_Jul22/v1/FTFP_pklFiles/Hit_Z.pickle', 'rb') as a1:\n",
    "#     layers = pickle.load(a1)\n",
    "# with open(f'/home/rusack/shared/pickles/HGCAL_TestBeam/pkl_files/DiscreteSim_pklFiles_Jul22/v1/FTFP_pklFiles/recHitEn.pickle', 'rb') as a2:\n",
    "#     energy = pickle.load(a2)"
   ]
  },
  {
   "cell_type": "code",
   "execution_count": 19,
   "id": "heard-florist",
   "metadata": {},
   "outputs": [],
   "source": [
    "# Test beams of known energies are used to test the effectiveness of the model.\n",
    "# Each test beam has thousands of recorded events.\n",
    "# By pushing these events through the network, the event energy guesses will form a gaussian distribution about the true energy.\n",
    "# the Standard deviation of these guess sets will be used to determine the energy resolution of the particles.\n",
    "# The network will predict the correct test beam energy if the network is working effectively with the given data set.\n",
    "\n",
    "# new_files_list = [30,50,80,100,150,200,250,300]\n",
    "\n",
    "with open(\"/home/rusack/shared/pickles/HGCAL_TestBeam/pkl_files/HGCAL_TB_Data_pkl/trueE.pickle\", 'rb') as a:\n",
    "    trueE = pickle.load(a)\n",
    "with open(\"/home/rusack/shared/pickles/HGCAL_TestBeam/pkl_files/HGCAL_TB_Data_pkl/recHitEn.pickle\", 'rb' ) as a2:\n",
    "    recHitEn = pickle.load(a2)\n",
    "with open(\"/home/rusack/shared/pickles/HGCAL_TestBeam/pkl_files/HGCAL_TB_Data_pkl/Hit_Z.pickle\", 'rb') as a3:\n",
    "    hitZ = pickle.load(a3)\n",
    "with open(\"/home/rusack/shared/pickles/HGCAL_TestBeam/pkl_files/HGCAL_TB_Data_pkl/trueE_target.pickle\", 'rb') as a4:\n",
    "    targetE = pickle.load(a4)\n",
    "\n",
    "    "
   ]
  },
  {
   "cell_type": "code",
   "execution_count": 30,
   "id": "addressed-sessions",
   "metadata": {},
   "outputs": [
    {
     "name": "stdout",
     "output_type": "stream",
     "text": [
      "[13.9, 14.8, 16.8, 17.7, 19.7, 20.6, 22.7, ... 130, 130, 130, 168, 186, 215, 197]\n",
      "197\n",
      "63\n"
     ]
    }
   ],
   "source": [
    "# print(thing)\n",
    "# print(len(np.unique(ak.flatten(thing))))\n",
    "print(hitZ[0])\n",
    "\n",
    "baba = 1\n",
    "print(len(thing[baba]))\n",
    "x = []\n",
    "for i in range(len(thing[baba])):\n",
    "    if thing[baba][i] not in x:\n",
    "        x.append(thing[baba][i])\n",
    "print(len(x))\n"
   ]
  },
  {
   "cell_type": "code",
   "execution_count": 28,
   "id": "better-relative",
   "metadata": {},
   "outputs": [
    {
     "name": "stdout",
     "output_type": "stream",
     "text": [
      "Variable    Type     Data/Info\n",
      "------------------------------\n",
      "hitZ        Array    [[13.9, 14.8, 16.8, 17.7,<...>160, 165, 160, 160, 160]]\n",
      "recHitEn    Array    [[1.46, 0.959, 1.26, 0.62<...> 1.38, 1.24, 1.69, 1.36]]\n",
      "some        Array    [[1.46, 0.959, 1.26, 0.62<...> 1.38, 1.24, 1.69, 1.36]]\n",
      "something   Array    [-1, -1, -1, -1, -1, -1, <...>, -1, -1, -1, -1, -1, -1]\n",
      "targetE     Array    [-1, -1, -1, -1, -1, -1, <...>, -1, -1, -1, -1, -1, -1]\n",
      "targets     Array    [19.8, 19.8, 20.1, 19.8, <...> 298, 300, 297, 303, 303]\n",
      "thing       Array    [[13.9, 14.8, 16.8, 17.7,<...>160, 165, 160, 160, 160]]\n",
      "trueE       Array    [-1, -1, -1, -1, -1, -1, <...>, -1, -1, -1, -1, -1, -1]\n"
     ]
    }
   ],
   "source": [
    "whos Array"
   ]
  },
  {
   "cell_type": "code",
   "execution_count": 14,
   "id": "marked-aspect",
   "metadata": {},
   "outputs": [
    {
     "ename": "NameError",
     "evalue": "name 'new_files_list' is not defined",
     "output_type": "error",
     "traceback": [
      "\u001b[0;31m---------------------------------------------------------------------------\u001b[0m",
      "\u001b[0;31mNameError\u001b[0m                                 Traceback (most recent call last)",
      "\u001b[0;32m/tmp/ipykernel_170656/1255756523.py\u001b[0m in \u001b[0;36m<module>\u001b[0;34m\u001b[0m\n\u001b[1;32m      8\u001b[0m \u001b[0mlayers\u001b[0m \u001b[0;34m=\u001b[0m \u001b[0;34m[\u001b[0m\u001b[0;34m]\u001b[0m\u001b[0;34m\u001b[0m\u001b[0m\n\u001b[1;32m      9\u001b[0m \u001b[0menergy\u001b[0m \u001b[0;34m=\u001b[0m \u001b[0;34m[\u001b[0m\u001b[0;34m]\u001b[0m\u001b[0;34m\u001b[0m\u001b[0m\n\u001b[0;32m---> 10\u001b[0;31m \u001b[0;32mfor\u001b[0m \u001b[0mx\u001b[0m \u001b[0;32min\u001b[0m \u001b[0mnew_files_list\u001b[0m\u001b[0;34m:\u001b[0m\u001b[0;34m\u001b[0m\u001b[0m\n\u001b[0m\u001b[1;32m     11\u001b[0m     \u001b[0;32mwith\u001b[0m \u001b[0mopen\u001b[0m\u001b[0;34m(\u001b[0m\u001b[0;34mf'/home/rusack/shared/pickles/HGCAL_TestBeam/pkl_files/HGCAL_TB_Data_pkl/Hit_Z.pickle'\u001b[0m\u001b[0;34m,\u001b[0m \u001b[0;34m'rb'\u001b[0m\u001b[0;34m)\u001b[0m \u001b[0;32mas\u001b[0m \u001b[0ma1\u001b[0m\u001b[0;34m:\u001b[0m\u001b[0;34m\u001b[0m\u001b[0m\n\u001b[1;32m     12\u001b[0m         \u001b[0mlayers\u001b[0m\u001b[0;34m.\u001b[0m\u001b[0mappend\u001b[0m\u001b[0;34m(\u001b[0m\u001b[0mpickle\u001b[0m\u001b[0;34m.\u001b[0m\u001b[0mload\u001b[0m\u001b[0;34m(\u001b[0m\u001b[0ma1\u001b[0m\u001b[0;34m)\u001b[0m\u001b[0;34m)\u001b[0m\u001b[0;34m\u001b[0m\u001b[0m\n",
      "\u001b[0;31mNameError\u001b[0m: name 'new_files_list' is not defined"
     ]
    }
   ],
   "source": [
    "# Load the NN state from a saved training session.\n",
    "net = NN()\n",
    "# load in the trained network\n",
    "net.load_state_dict(torch.load('/home/rusack/vadna042/PionDNNstates/exampleRun/epochfinal'))\n",
    "net.eval()\n",
    "\n",
    "#Load in the electron event energy and layer files to calculate the summed layer values as input for the network.\n",
    "layers = []\n",
    "energy = []\n",
    "for x in new_files_list:\n",
    "    with open(f'/home/rusack/shared/pickles/HGCAL_TestBeam/pkl_files/HGCAL_TB_Data_pkl/Hit_Z.pickle', 'rb') as a1:\n",
    "        layers.append(pickle.load(a1))\n",
    "    with open(f'/home/rusack/shared/pickles/HGCAL_TestBeam/pkl_files/HGCAL_TB_Data_pkl/recHitEn.pickle', 'rb') as a2:\n",
    "        energy.append(pickle.load(a2))\n",
    "\n",
    "#Seperates the individual hits in the detector by their corresponding layers and sums them\n",
    "sum_e_layers = []\n",
    "for i in range(len(layers)):\n",
    "    layer_position = np.unique(ak.flatten(layers[i]))[0:50]\n",
    "    temp = [ ak.sum(energy[i][layers[i]==lz], axis=1) for lz in layer_position ]\n",
    "    sum_e_layers.append(torch.Tensor(temp))\n",
    "\n",
    "# Run the summed energy layer values for each test beam through the network.\n",
    "output_run = [torch.detach(net(sum_e_layers[i].T)).numpy() for i in range(len(sum_e_layers))]"
   ]
  },
  {
   "cell_type": "code",
   "execution_count": null,
   "id": "velvet-australia",
   "metadata": {},
   "outputs": [],
   "source": []
  },
  {
   "cell_type": "code",
   "execution_count": 7,
   "id": "productive-penguin",
   "metadata": {},
   "outputs": [
    {
     "name": "stdout",
     "output_type": "stream",
     "text": [
      "plotting energy = 30 GeV in 0, 0\n"
     ]
    },
    {
     "ename": "ValueError",
     "evalue": "`x0` is infeasible.",
     "output_type": "error",
     "traceback": [
      "\u001b[0;31m---------------------------------------------------------------------------\u001b[0m",
      "\u001b[0;31mValueError\u001b[0m                                Traceback (most recent call last)",
      "\u001b[0;32m/tmp/ipykernel_2226029/1687063782.py\u001b[0m in \u001b[0;36m<module>\u001b[0;34m\u001b[0m\n\u001b[1;32m     15\u001b[0m     \u001b[0mearray\u001b[0m \u001b[0;34m=\u001b[0m \u001b[0moutput_run\u001b[0m\u001b[0;34m[\u001b[0m\u001b[0mie\u001b[0m\u001b[0;34m]\u001b[0m\u001b[0;34m\u001b[0m\u001b[0m\n\u001b[1;32m     16\u001b[0m \u001b[0;34m\u001b[0m\u001b[0m\n\u001b[0;32m---> 17\u001b[0;31m     \u001b[0mfit_parameters\u001b[0m\u001b[0;34m[\u001b[0m\u001b[0;34m'data'\u001b[0m\u001b[0;34m]\u001b[0m\u001b[0;34m[\u001b[0m\u001b[0me\u001b[0m\u001b[0;34m]\u001b[0m \u001b[0;34m=\u001b[0m \u001b[0mfit_gaussian\u001b[0m\u001b[0;34m(\u001b[0m\u001b[0mearray\u001b[0m\u001b[0;34m,\u001b[0m \u001b[0maxarray\u001b[0m\u001b[0;34m[\u001b[0m\u001b[0mirow\u001b[0m\u001b[0;34m,\u001b[0m \u001b[0mjcol\u001b[0m\u001b[0;34m]\u001b[0m\u001b[0;34m,\u001b[0m \u001b[0;34m'data'\u001b[0m\u001b[0;34m,\u001b[0m \u001b[0me\u001b[0m\u001b[0;34m)\u001b[0m\u001b[0;34m\u001b[0m\u001b[0m\n\u001b[0m\u001b[1;32m     18\u001b[0m \u001b[0;34m\u001b[0m\u001b[0m\n\u001b[1;32m     19\u001b[0m \u001b[0mplt\u001b[0m\u001b[0;34m.\u001b[0m\u001b[0mshow\u001b[0m\u001b[0;34m(\u001b[0m\u001b[0;34m)\u001b[0m\u001b[0;34m\u001b[0m\u001b[0m\n",
      "\u001b[0;32m/tmp/ipykernel_2226029/1722436280.py\u001b[0m in \u001b[0;36mfit_gaussian\u001b[0;34m(earray, ax, dtype, energy)\u001b[0m\n\u001b[1;32m     45\u001b[0m     results = curve_fit(GausPDF, xarray, yarray, \n\u001b[1;32m     46\u001b[0m                     \u001b[0mp0\u001b[0m\u001b[0;34m=\u001b[0m\u001b[0;34m(\u001b[0m\u001b[0mmax\u001b[0m\u001b[0;34m(\u001b[0m\u001b[0myarray\u001b[0m\u001b[0;34m)\u001b[0m\u001b[0;34m,\u001b[0m \u001b[0mmean_\u001b[0m\u001b[0;34m,\u001b[0m \u001b[0mstd_\u001b[0m\u001b[0;34m)\u001b[0m\u001b[0;34m,\u001b[0m\u001b[0;34m\u001b[0m\u001b[0m\n\u001b[0;32m---> 47\u001b[0;31m                     bounds=((0,0,0),(1e2*max(yarray),1e3,1e3)))\n\u001b[0m\u001b[1;32m     48\u001b[0m     \u001b[0mE\u001b[0m \u001b[0;34m=\u001b[0m \u001b[0myarray\u001b[0m\u001b[0;34m-\u001b[0m\u001b[0mnp\u001b[0m\u001b[0;34m.\u001b[0m\u001b[0marray\u001b[0m\u001b[0;34m(\u001b[0m\u001b[0;34m[\u001b[0m \u001b[0mGausPDF\u001b[0m\u001b[0;34m(\u001b[0m\u001b[0mm\u001b[0m\u001b[0;34m,\u001b[0m \u001b[0;34m*\u001b[0m\u001b[0mresults\u001b[0m\u001b[0;34m[\u001b[0m\u001b[0;36m0\u001b[0m\u001b[0;34m]\u001b[0m\u001b[0;34m)\u001b[0m \u001b[0;32mfor\u001b[0m \u001b[0mm\u001b[0m \u001b[0;32min\u001b[0m \u001b[0mxarray\u001b[0m\u001b[0;34m]\u001b[0m\u001b[0;34m)\u001b[0m\u001b[0;34m\u001b[0m\u001b[0m\n\u001b[1;32m     49\u001b[0m     \u001b[0mE\u001b[0m \u001b[0;34m=\u001b[0m \u001b[0mE\u001b[0m\u001b[0;34m/\u001b[0m\u001b[0;34m(\u001b[0m\u001b[0mnp\u001b[0m\u001b[0;34m.\u001b[0m\u001b[0msqrt\u001b[0m\u001b[0;34m(\u001b[0m\u001b[0myarray\u001b[0m\u001b[0;34m+\u001b[0m\u001b[0;36m0.001\u001b[0m\u001b[0;34m)\u001b[0m\u001b[0;34m)\u001b[0m\u001b[0;34m\u001b[0m\u001b[0m\n",
      "\u001b[0;32m/home/rusack/shared/.conda/env/torch1.7/lib/python3.7/site-packages/scipy/optimize/minpack.py\u001b[0m in \u001b[0;36mcurve_fit\u001b[0;34m(f, xdata, ydata, p0, sigma, absolute_sigma, check_finite, bounds, method, jac, **kwargs)\u001b[0m\n\u001b[1;32m    799\u001b[0m \u001b[0;34m\u001b[0m\u001b[0m\n\u001b[1;32m    800\u001b[0m         res = least_squares(func, p0, jac=jac, bounds=bounds, method=method,\n\u001b[0;32m--> 801\u001b[0;31m                             **kwargs)\n\u001b[0m\u001b[1;32m    802\u001b[0m \u001b[0;34m\u001b[0m\u001b[0m\n\u001b[1;32m    803\u001b[0m         \u001b[0;32mif\u001b[0m \u001b[0;32mnot\u001b[0m \u001b[0mres\u001b[0m\u001b[0;34m.\u001b[0m\u001b[0msuccess\u001b[0m\u001b[0;34m:\u001b[0m\u001b[0;34m\u001b[0m\u001b[0m\n",
      "\u001b[0;32m/home/rusack/shared/.conda/env/torch1.7/lib/python3.7/site-packages/scipy/optimize/_lsq/least_squares.py\u001b[0m in \u001b[0;36mleast_squares\u001b[0;34m(fun, x0, jac, bounds, method, ftol, xtol, gtol, x_scale, loss, f_scale, diff_step, tr_solver, tr_options, jac_sparsity, max_nfev, verbose, args, kwargs)\u001b[0m\n\u001b[1;32m    806\u001b[0m \u001b[0;34m\u001b[0m\u001b[0m\n\u001b[1;32m    807\u001b[0m     \u001b[0;32mif\u001b[0m \u001b[0;32mnot\u001b[0m \u001b[0min_bounds\u001b[0m\u001b[0;34m(\u001b[0m\u001b[0mx0\u001b[0m\u001b[0;34m,\u001b[0m \u001b[0mlb\u001b[0m\u001b[0;34m,\u001b[0m \u001b[0mub\u001b[0m\u001b[0;34m)\u001b[0m\u001b[0;34m:\u001b[0m\u001b[0;34m\u001b[0m\u001b[0m\n\u001b[0;32m--> 808\u001b[0;31m         \u001b[0;32mraise\u001b[0m \u001b[0mValueError\u001b[0m\u001b[0;34m(\u001b[0m\u001b[0;34m\"`x0` is infeasible.\"\u001b[0m\u001b[0;34m)\u001b[0m\u001b[0;34m\u001b[0m\u001b[0m\n\u001b[0m\u001b[1;32m    809\u001b[0m \u001b[0;34m\u001b[0m\u001b[0m\n\u001b[1;32m    810\u001b[0m     \u001b[0mx_scale\u001b[0m \u001b[0;34m=\u001b[0m \u001b[0mcheck_x_scale\u001b[0m\u001b[0;34m(\u001b[0m\u001b[0mx_scale\u001b[0m\u001b[0;34m,\u001b[0m \u001b[0mx0\u001b[0m\u001b[0;34m)\u001b[0m\u001b[0;34m\u001b[0m\u001b[0m\n",
      "\u001b[0;31mValueError\u001b[0m: `x0` is infeasible."
     ]
    },
    {
     "data": {
      "text/plain": [
       "<Figure size 432x288 with 0 Axes>"
      ]
     },
     "metadata": {},
     "output_type": "display_data"
    },
    {
     "data": {
      "image/png": "[encoded data removed]",
      "text/plain": [
       "<Figure size 2160x864 with 8 Axes>"
      ]
     },
     "metadata": {
      "needs_background": "light"
     },
     "output_type": "display_data"
    }
   ],
   "source": [
    "fit_parameters = {'data': {}}\n",
    "\n",
    "plt.clf()\n",
    "fig, axarray = plt.subplots(2, 4)\n",
    "fig.set_figheight(12)\n",
    "fig.set_figwidth(30)\n",
    "\n",
    "elist = [30,50,80,100,150,200,250,300]\n",
    "# elist.sort()\n",
    "\n",
    "for ie, e in enumerate(elist):\n",
    "    irow = int(ie/4)\n",
    "    jcol = int(ie%4)\n",
    "#     earray = ak.sum(arrays['data'][e]['rechit_energy'], axis=1)*0.01\n",
    "    earray = output_run[ie]\n",
    "    \n",
    "    fit_parameters['data'][e] = fit_gaussian(earray, axarray[irow, jcol], 'data', e)\n",
    "\n",
    "plt.show()"
   ]
  },
  {
   "cell_type": "code",
   "execution_count": null,
   "id": "brazilian-climate",
   "metadata": {},
   "outputs": [],
   "source": [
    "# With the network having predicted the energy of electron events for each test beam,\n",
    "# we then fit the guesses with a gaussian function. \n",
    "\n",
    "# for i, y in enumerate(output_run):\n",
    "#     bins = 200\n",
    "#     ydata, xdata = np.histogram(y, range = [np.mean(y)-(i+1)*7, np.mean(y)+(i+1)*7],bins = bins)\n",
    "#     xdata = xdata[:bins] \n",
    "#     guess = [max(ydata),\n",
    "#              np.average(xdata,weights=ydata),\n",
    "#              np.sqrt(np.std(ydata))*0.1] \n",
    "\n",
    "#     param, paramconv = curve_fit(Gauss, xdata, ydata, p0=guess, maxfev=10000, bounds = ([0,10,0],[10000,350,400]))\n",
    "#     param[2] = abs(param[2])\n",
    "#     print(param)\n",
    "    \n",
    "#     parameters.append(param)\n",
    "    \n",
    "#     fit_y = Gauss(xdata, param[0], param[1], param[2])\n",
    "#     plt.figure()\n",
    "#     plt.plot(xdata, ydata, 'o', label='data') #Is the shift constant or dependent on energy?\n",
    "#     plt.plot(xdata, fit_y, '-', label='fit')\n",
    "#     plt.legend()\n",
    "#     plt.xlabel('Energy GeV')\n",
    "#     plt.ylabel('Event count')\n",
    "#     plt.title(f\"{new_files_list[i]} GeV MC DNN prediction\")\n",
    "#     plt.show() \n",
    "#     output_dataframe = pd.DataFrame([[xdata[i],ydata[i]] for i in range(len(ydata))], columns = ['energy_GeV','event_count'])\n",
    "#     output_dataframe.to_csv(f'mc_h3_processed\\{new_files_list[i]}.csv') #Change FILEPATH\n",
    "    \n",
    "    "
   ]
  },
  {
   "cell_type": "code",
   "execution_count": 8,
   "id": "inappropriate-statistics",
   "metadata": {},
   "outputs": [
    {
     "ename": "NameError",
     "evalue": "name 'new_files_list' is not defined",
     "output_type": "error",
     "traceback": [
      "\u001b[0;31m---------------------------------------------------------------------------\u001b[0m",
      "\u001b[0;31mNameError\u001b[0m                                 Traceback (most recent call last)",
      "\u001b[0;32m/tmp/ipykernel_2226029/3631660866.py\u001b[0m in \u001b[0;36m<module>\u001b[0;34m\u001b[0m\n\u001b[1;32m      2\u001b[0m \u001b[0mparameters\u001b[0m\u001b[0;34m=\u001b[0m\u001b[0;34m[\u001b[0m\u001b[0;34m]\u001b[0m\u001b[0;34m\u001b[0m\u001b[0m\n\u001b[1;32m      3\u001b[0m \u001b[0mparameters2\u001b[0m\u001b[0;34m=\u001b[0m\u001b[0;34m[\u001b[0m\u001b[0;34m]\u001b[0m\u001b[0;34m\u001b[0m\u001b[0m\n\u001b[0;32m----> 4\u001b[0;31m \u001b[0;32mfor\u001b[0m \u001b[0mi\u001b[0m\u001b[0;34m,\u001b[0m \u001b[0my\u001b[0m \u001b[0;32min\u001b[0m \u001b[0menumerate\u001b[0m\u001b[0;34m(\u001b[0m\u001b[0mnew_files_list\u001b[0m\u001b[0;34m)\u001b[0m\u001b[0;34m:\u001b[0m\u001b[0;34m\u001b[0m\u001b[0m\n\u001b[0m\u001b[1;32m      5\u001b[0m     \u001b[0mdataProc\u001b[0m \u001b[0;34m=\u001b[0m \u001b[0mnp\u001b[0m\u001b[0;34m.\u001b[0m\u001b[0mgenfromtxt\u001b[0m\u001b[0;34m(\u001b[0m\u001b[0;34mf'/home/rusack/vadna042/{y}.csv'\u001b[0m\u001b[0;34m,\u001b[0m \u001b[0mdelimiter\u001b[0m\u001b[0;34m=\u001b[0m\u001b[0;34m','\u001b[0m\u001b[0;34m)\u001b[0m\u001b[0;34m\u001b[0m\u001b[0m\n\u001b[1;32m      6\u001b[0m     \u001b[0mydata\u001b[0m \u001b[0;34m=\u001b[0m \u001b[0mdataProc\u001b[0m\u001b[0;34m[\u001b[0m\u001b[0;34m:\u001b[0m\u001b[0;34m,\u001b[0m\u001b[0;36m1\u001b[0m\u001b[0;34m]\u001b[0m\u001b[0;34m\u001b[0m\u001b[0m\n",
      "\u001b[0;31mNameError\u001b[0m: name 'new_files_list' is not defined"
     ]
    }
   ],
   "source": [
    "# To confirm the effectiveness of the network, the test beam network energy guesses are compared to the energy summation method.\n",
    "parameters=[]\n",
    "parameters2=[]\n",
    "for i, y in enumerate(new_files_list):\n",
    "    dataProc = np.genfromtxt(f'/home/rusack/vadna042/{y}.csv', delimiter=',')\n",
    "    ydata = dataProc[:,1]\n",
    "    xdata = dataProc[:,0]\n",
    "    guess = [max(ydata),\n",
    "             np.average(xdata,weights=ydata),\n",
    "             np.sqrt(np.std(ydata))*0.1] \n",
    "    # The parameter fitting for the gaussians sometimes fails for GeV 100. \n",
    "    # The bounds can force it to find a correct solution\n",
    "    param, paramconv = curve_fit(Gauss, xdata, ydata, p0=guess, maxfev=10000) #,bounds = ([0,10,0],[10000,350,400]))\n",
    "    param[2] = abs(param[2])\n",
    "    # print(param)\n",
    "    parameters2.append(param)\n",
    "    \n",
    "#     fit_y = Gauss(xdata, param[0], param[1], param[2])\n",
    "#     plt.figure()\n",
    "#     plt.plot(xdata, ydata, 'o', label='data') #Is the shift constant or dependent on energy?\n",
    "#     plt.plot(xdata, fit_y, '-', label='fit')\n",
    "#     plt.legend()\n",
    "#     plt.xlabel('Energy GeV')\n",
    "#     plt.ylabel('Event count')\n",
    "#     plt.title(f\"{new_files_list[i]} GeV Data Sum\")\n",
    "#     plt.show()     \n",
    "    "
   ]
  },
  {
   "cell_type": "code",
   "execution_count": null,
   "id": "bibliographic-california",
   "metadata": {},
   "outputs": [],
   "source": [
    "\n",
    "# Fit a line to the energy resolution data set\n",
    "\n",
    "#=====Create cumulative dataset\n",
    "energy_x = np.asarray([1/np.sqrt(new_files_list[i]) for i in range(len(parameters))])\n",
    "# energy_y = np.asarray([parameters[i][2]/new_files_list[i] for i in range(len(parameters))])\n",
    "energy_y = np.asarray([fit_parameters['data'][new_files_list[i]][2]/new_files_list[i] for i in range(len(parameters))])\n",
    "energy_ySM = np.asarray([parameters2[i][2]/new_files_list[i] for i in range(len(parameters2))])\n",
    "output_data = np.asarray([[energy_x[i], energy_y[i]] for i in range(len(parameters))])\n",
    "output_dataSM = np.asarray([[energy_x[i], energy_ySM[i]] for i in range(len(parameters))])\n",
    "    \n",
    "#=====Create the guess and fit for the \n",
    "xarray = np.linspace(0.0, 0.55, 64)\n",
    "\n",
    "slope = (energy_y[len(parameters)-1] - energy_y[0]) / (energy_x[len(parameters)-1] - energy_x[0])\n",
    "intercept = energy_y[0] - slope*energy_x[0]\n",
    "energy_guess = [slope,intercept]\n",
    "energy_param, energy_cov = curve_fit(line, energy_x, energy_y, p0 = energy_guess)\n",
    "linfit = line(xarray, energy_param[0], energy_param[1])\n",
    "\n",
    "slopeSM = (energy_ySM[len(parameters2)-1] - energy_ySM[0]) / (energy_x[len(parameters2)-1] - energy_x[0])\n",
    "interceptSM = energy_ySM[0] - slopeSM*energy_x[0]\n",
    "energy_guessSM = [slopeSM,interceptSM]\n",
    "energy_paramSM, energy_covSM = curve_fit(line, energy_x, energy_ySM, p0 = energy_guessSM)\n",
    "linfitSM = line(xarray, energy_paramSM[0], energy_paramSM[1])\n",
    "\n",
    "#=====plot the data and fit, check to see if params are in correct units...\n",
    "# plt.figure()\n",
    "# plt.plot(energy_x,energy_y, 'o', label='data')\n",
    "# plt.plot(energy_x,linfit, '-', label='fit')\n",
    "# plt.legend()\n",
    "# plt.xlabel('1 / $\\sqrt{Energy}')\n",
    "# plt.ylabel('Sigma_E / <E>')\n",
    "# plt.title('data Energy Resolution plot')\n",
    "# plt.text(0.11,0.02,f'Slope: {energy_param[0]}\\nIntercept: {energy_param[1]}')\n",
    "# # plt.savefig('mc_h3_processed\\linplot.png', dpi=350, transparent=False)\n",
    "# plt.show()"
   ]
  },
  {
   "cell_type": "code",
   "execution_count": null,
   "id": "neutral-briefing",
   "metadata": {},
   "outputs": [],
   "source": [
    "# Plot the energy resolution plot for the test beam data pushed through the traine network vs the summation method.\n",
    "\n",
    "plt.clf()\n",
    "plt.figure(figsize=(6.6,6.6))\n",
    "\n",
    "# mean_e = 1/np.sqrt(np.array([ e for e in fit_parameters_ml_train]))\n",
    "# res_e = np.array([ fit_parameters_ml_train[e][2]/e for e in fit_parameters_ml_train])\n",
    "plt.scatter(energy_x, energy_y,\n",
    "            marker='.', s=100, edgecolor='black', label='ml method',\n",
    "            facecolor='w')\n",
    "# res_results_ml = curve_fit(Pol1PDF, xdata=mean_e, ydata=res_e,\n",
    "#          bounds = ((0,0), (1e3,1e3)), p0=(0.2, 0.02))\n",
    "\n",
    "# res_e = np.array([fit_parameters_sum[e][2]/e for e in fit_parameters_sum])\n",
    "plt.scatter(energy_x, energy_ySM,\n",
    "            marker='.', s=100, edgecolor='red', label='Sum',\n",
    "            facecolor='w')\n",
    "# res_results_sum = curve_fit(Pol1PDF, xdata=mean_e, ydata=res_e,\n",
    "#          bounds = ((0,0), (1e3,1e3)), p0=(0.2, 0.02))\n",
    "\n",
    "\n",
    "# xarray = np.linspace(0.0, 0.55, 64)\n",
    "# yarray_data_sum =  res_results_sum[0][0]*xarray+res_results_sum[0][1]\n",
    "# yarray_data_ml = res_results_ml[0][0]*xarray+res_results_ml[0][1]\n",
    "\n",
    "# linfit2 = line(xarray, energy_param[0], energy_param[1])\n",
    "\n",
    "\n",
    "plt.plot(xarray, linfitSM, c='red', linestyle='--',\n",
    "         label='S={:0.2f} %, C={:0.2f} %'.format(energy_paramSM[0]*100, energy_paramSM[1]*100))\n",
    "plt.plot(xarray, linfit, c='black', linestyle='--',\n",
    "         label='S={:0.2f} %, C={:0.2f} %'.format(energy_param[0]*100, energy_param[1]*100))\n",
    "\n",
    "cms = plt.text(x=0.0, y=0.05, s=\"CMS $\\it{Preliminary}$\",\n",
    "    fontsize=18, fontweight='bold',\n",
    "    fontfamily='sans-serif',\n",
    "    horizontalalignment='left', \n",
    "    verticalalignment='bottom')\n",
    "\n",
    "slope_text= plt.text(x=0.06, y=0.035, s='')\n",
    "\n",
    "plt.ylim(0.0, 0.05)\n",
    "plt.xlim(0.0, 0.20)\n",
    "plt.ylabel('$\\sigma$(E)/<E>', size=14)\n",
    "plt.xlabel('1/$\\sqrt{E\\ [GeV]}$', size=14)\n",
    "plt.legend(fontsize=12, loc='upper left')\n",
    "plt.show()\n"
   ]
  },
  {
   "cell_type": "code",
   "execution_count": null,
   "id": "japanese-evanescence",
   "metadata": {},
   "outputs": [],
   "source": [
    "# This is the corpse of an old figure showing the relation of the average energy distributions of the layer sums \n",
    "# and the weights of the network. It was inscrutable. There was no discernable relation between the two.  \n",
    "\n",
    "# ====load NN state\n",
    "net = NN()\n",
    "net.load_state_dict(torch.load('/home/rusack/vadna042/DNNstates/largeTest/epochfinal'))\n",
    "net.eval()\n",
    "\n",
    "## with open('/home/rusack/shared/pickles/hgcal_electron/flat_combined/all_target.pickle', 'rb') as f:\n",
    "##     targets = pickle.load(f)\n",
    "with open('/home/rusack/shared/pickles/hgcal_electron/flat_combined/layer_energy_sum.pickle', 'rb') as l:\n",
    "    layerSum = pickle.load(l)\n",
    "    \n",
    "flat_output = torch.detach(net(torch.Tensor(layerSum)))\n",
    "predictions = np.asarray(flat_output).flatten()\n",
    "\n",
    "with open('/home/rusack/vadna042/DNNoutput/flat_0001_predictions.pickle', 'wb') as handle:\n",
    "    pickle.dump(predictions, handle, protocol=pickle.HIGHEST_PROTOCOL)\n",
    "\n",
    "    \n",
    "for i, param in enumerate(net.parameters()):\n",
    "#     print(np.shape((torch.Tensor.detach(param).numpy()).T))\n",
    "    if i==1:\n",
    "        temp = torch.Tensor.detach(param).numpy().T\n",
    "#         param_list = [sum(temp[j]) for j in range(len(temp))]\n",
    "    elif i==3:\n",
    "        temp2 = torch.Tensor.detach(param).numpy().T\n",
    "\n",
    "plt.clf()\n",
    "plt.figure()\n",
    "plt.bar(np.linspace(0,39,40),temp)\n",
    "plt.show()\n",
    "\n",
    "plt.clf()\n",
    "plt.figure()\n",
    "plt.bar(np.linspace(0,29,30),temp2)\n",
    "plt.show()"
   ]
  },
  {
   "cell_type": "code",
   "execution_count": null,
   "id": "burning-learning",
   "metadata": {},
   "outputs": [],
   "source": []
  }
 ],
 "metadata": {
  "kernelspec": {
   "display_name": "torch",
   "language": "python",
   "name": "torch"
  },
  "language_info": {
   "codemirror_mode": {
    "name": "ipython",
    "version": 3
   },
   "file_extension": ".py",
   "mimetype": "text/x-python",
   "name": "python",
   "nbconvert_exporter": "python",
   "pygments_lexer": "ipython3",
   "version": "3.7.0"
  }
 },
 "nbformat": 4,
 "nbformat_minor": 5
}
