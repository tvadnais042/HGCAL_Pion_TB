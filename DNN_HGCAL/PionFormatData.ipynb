{
 "cells": [
  {
   "cell_type": "code",
   "execution_count": 1,
   "metadata": {},
   "outputs": [],
   "source": [
    "import numpy as np\n",
    "import awkward as ak\n",
    "import pickle\n",
    "import pandas as pd\n",
    "from sys import getsizeof\n",
    "\n",
    "from PionModel import *\n",
    "\n",
    "# Most of the steps have been commented out to avoid accidentally overwriting existing data\n",
    "# Also to avoid running out of memory (an issue with the basic interactive given with SSH)\n",
    "# More at 11"
   ]
  },
  {
   "cell_type": "code",
   "execution_count": 2,
   "metadata": {},
   "outputs": [],
   "source": [
    "# this one does not have the AHCAL data.\n",
    "# filePath = \"/home/rusack/shared/pickles/HGCAL_TestBeam/pkl_files/DataHGCALTB_fixwt_woAHCAL_4feat/\"\n",
    "# This one does not have the beamEn file so I cant separate the data correctly\n",
    "# filePath = \"/home/rusack/shared/pickles/HGCAL_TestBeam/pkl_files/HGCAL_TB_Data_pkl/\"\n",
    "filePath = \"/home/rusack/shared/pickles/HGCAL_TestBeam/pkl_files/pkl_updat_relwt_ahcaltrim_TB/\"\n",
    "\n",
    "# recHitEn = pickle.load(open(filePath + \"recHitEn\" + \".pickle\", \"rb\"))\n",
    "Hit_Z = pickle.load(open(filePath + \"Hit_Z\" + \".pickle\", \"rb\"))\n",
    "beamEn = pickle.load(open(filePath + \"beamEn\" + \".pickle\", \"rb\"))\n",
    "\n",
    "\n"
   ]
  },
  {
   "cell_type": "code",
   "execution_count": null,
   "metadata": {},
   "outputs": [],
   "source": [
    "# Get all unique depth positions\n",
    "# uniqueZ = np.unique(ak.flatten(Hit_Z))\n",
    "# with open(f\"/home/rusack/vadna042/DNN_HGCAL/PionData/DepthPositions50.pickle\", \"wb\") as a:\n",
    "#     pickle.dump(uniqueZ, a)\n",
    "#     del a"
   ]
  },
  {
   "cell_type": "code",
   "execution_count": 5,
   "metadata": {},
   "outputs": [],
   "source": [
    "#split the events Hit_Z and recHitEn based on the beam Energy. \n",
    "#The Test beam energies are 20, 50, 80, 100, 120, 200, 250, 300 GeV\n",
    "\n",
    "\n",
    "# beamEnUnique = np.unique(beamEn)\n",
    "# startSplit = 0\n",
    "# i = 0\n",
    "# x = beamEn[i]\n",
    "\n",
    "# while i < len(beamEn):\n",
    "    \n",
    "#     tempX = beamEn[i]\n",
    "#     if tempX != x:\n",
    "#         val = int(x)\n",
    "#         with open(f\"/home/rusack/vadna042/DNN_HGCAL/PionData/TB_{val}/recHitEn.pickle\", \"wb\") as a:\n",
    "#             pickle.dump(recHitEn[startSplit:i], a)\n",
    "#         with open(f\"/home/rusack/vadna042/DNN_HGCAL/PionData/TB_{val}/Hit_Z.pickle\", \"wb\") as a2:\n",
    "#             pickle.dump(Hit_Z[startSplit:i], a2)\n",
    "#         del a, a2\n",
    "#         x = tempX\n",
    "#         startSplit = i\n",
    "#     i += 1\n",
    "# val = int(x)\n",
    "# with open(f\"/home/rusack/vadna042/DNN_HGCAL/PionData/TB_{val}/recHitEn.pickle\", \"wb\") as a:\n",
    "#     pickle.dump(recHitEn[startSplit:i], a)\n",
    "# with open(f\"/home/rusack/vadna042/DNN_HGCAL/PionData/TB_{val}/Hit_Z.pickle\", \"wb\") as a2:\n",
    "#     pickle.dump(Hit_Z[startSplit:i], a2)\n",
    "# del a, a2"
   ]
  },
  {
   "cell_type": "code",
   "execution_count": 3,
   "metadata": {},
   "outputs": [],
   "source": [
    "# Load in the Hit_Z and recHitEn for each recently separated TB file.\n",
    "# Need to sum all recHitEns per layer per event per testBeam\n",
    "# Any layer without any hits will be set to 0. \n",
    "# \n",
    "testBeams = [20,50,80,100,120,200,250,300]\n",
    "\n",
    "# The unique depth positions\n",
    "with open(\"/home/rusack/vadna042/DNN_HGCAL/PionData/DepthPositions50.pickle\", \"rb\") as a:\n",
    "    depthZ = pickle.load(a)\n",
    "    del a\n",
    "\n",
    "#Load in the pion event energy and layer files to calculate the summed layer values as input for the network.\n",
    "# Files are separated based on test beam energy. \n",
    "\n",
    "for x in testBeams:\n",
    "    with open(f'/home/rusack/vadna042/DNN_HGCAL/PionData/TB_{x}/Hit_Z.pickle', 'rb') as a1:\n",
    "        # layers.append(pickle.load(a1))\n",
    "        layers = pickle.load(a1)\n",
    "        del a1\n",
    "    with open(f'/home/rusack/vadna042/DNN_HGCAL/PionData/TB_{x}/recHitEn.pickle', 'rb') as a2:\n",
    "        # energy.append(pickle.load(a2))\n",
    "        energy = pickle.load(a2)\n",
    "        del a2\n",
    "    \n",
    "    temp = np.array([ ak.sum(energy[layers==lz], axis=1) for lz in depthZ ])\n",
    "    \n",
    "    with open(f\"/home/rusack/vadna042/DNN_HGCAL/PionData/TB_{x}/enSummed.pickle\", \"wb\") as a:\n",
    "        pickle.dump(temp, a)\n",
    "        del a\n",
    "    \n",
    "    \n",
    "    "
   ]
  },
  {
   "cell_type": "code",
   "execution_count": 7,
   "metadata": {},
   "outputs": [],
   "source": [
    "# Create the files for completely summed energy events. \n",
    "# Just total all the rechit energy per event per test beam energy.\n",
    "\n",
    "testBeams = [20,50,80,100,120,200,250,300]\n",
    "\n",
    "for x in testBeams:\n",
    "    with open(f'/home/rusack/vadna042/DNN_HGCAL/PionData/TB_{x}/recHitEn.pickle', 'rb') as a2:\n",
    "        # energy.append(pickle.load(a2))\n",
    "        energy = pickle.load(a2)\n",
    "        del a2\n",
    "    \n",
    "    temp = np.array([ak.sum(energy, axis=1)]).T\n",
    "    \n",
    "    with open(f\"/home/rusack/vadna042/DNN_HGCAL/PionData/TB_{x}/totalSummed.pickle\", \"wb\") as a:\n",
    "        pickle.dump(temp, a)\n",
    "        del a\n",
    "    "
   ]
  }
 ],
 "metadata": {
  "kernelspec": {
   "display_name": "Python 3",
   "language": "python",
   "name": "python3"
  },
  "language_info": {
   "codemirror_mode": {
    "name": "ipython",
    "version": 3
   },
   "file_extension": ".py",
   "mimetype": "text/x-python",
   "name": "python",
   "nbconvert_exporter": "python",
   "pygments_lexer": "ipython3",
   "version": "3.7.0"
  },
  "orig_nbformat": 4
 },
 "nbformat": 4,
 "nbformat_minor": 2
}
